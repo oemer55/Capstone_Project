{
 "cells": [
  {
   "cell_type": "markdown",
   "metadata": {},
   "source": [
    "## 1. Einleitung\n",
    "\n",
    "## 1.1 Abflussregelung\n",
    "\n",
    "![alt text](page_1_1.png \"1\")\n",
    "\n",
    "![alt text](page_1_2.png \"2\")\n",
    "\n",
    "Betrachtet wird $\\quad t\\geq 0$\n",
    "\n",
    "Es ist\n",
    "\n",
    "$v_e(t)$ Zuflussgeschwindigkeit\n",
    "\n",
    "$q_a(t)$ Volumenstrom am Ausgang\n",
    "\n",
    "Ventil : $\\quad \\quad \\left[q_e(t)\\right] = m^3/s$\n",
    "\n",
    "$u_v(t)$ : Steuerspannung $\\quad \\left[q_e(t)\\right] = m/s$\n",
    "\n",
    "\\begin{equation}\n",
    "q_e(t) = k_v \\cdot u_v(t) \\cdot v_e(t)\n",
    "\\end{equation}\n",
    "\n",
    "Volumenstrom Versorgung\n",
    "\n",
    "Becken\n",
    "\n",
    "\\begin{equation}\n",
    "h(t) = h_0 + k_B \\cdot \\int_0^t (q_e(\\tau)-q_a(\\tau)) d\\tau \n",
    "\\end{equation}\n",
    "\n",
    "**Ziel**: Volumenstrom $q_a(t)$ soll in Abhängigkeit von $u_v(t)$ gezielt eingestellt werden\n",
    "\n",
    "**Aufgabe**: Wir benötigen hierzu\n",
    "\n",
    "\\begin{equation}\n",
    "q_a(t) = q_a(v_e(t), u_v(t))\n",
    "\\end{equation}\n",
    "\n",
    "**Lösung**:\n",
    "\\begin{equation}\n",
    "h(t) = h_0 + k_B \\int_0^t (k_0 u_v(\\tau) \\cdot v_e(\\tau) - q_a(\\tau)) d\\tau\n",
    "\\end{equation}\n",
    "\n",
    "Störgröße (ändert sich von allein) kann man nicht beeinflussen\n",
    "\n",
    "Ursache für $q_a(t)$ ist $h(t)$. Es gilt:\n",
    " \n",
    "$$\n",
    "q_a(t) = h_a\\sqrt{h(t)} \\rightarrow\n",
    "$$\n",
    "\n",
    "$$h(t) = \\left(\\frac{q_a(t)}{h_a}\\right)^2 $$\n",
    " \n",
    "$$gh = \\frac{1}{2} 8c^2 \\approx c \\sqrt{2 \\frac{g}{f}} \\sqrt{h}$$\n",
    "\n",
    "$$\\left(\\frac{q_a(t)}{k_a}\\right)^2 = h_0 + k_B \\int_0^t \\dots d\\tau \\Bigg\\vert \\frac{\\partial}{\\partial t}$$\n",
    "\n",
    "$$\\frac{2}{h_a^2} \\cdot \\underbrace{s_tq_a(t)}_{\\frac{\\partial q_a}{\\partial t}} \\cdot q_a(t) = k_B k_v u_v(t) v_l(t) - k_B q_a(t)$$\n",
    "\n",
    "$$\\Rightarrow \\frac{2}{k_a^2k_B} \\cdot q_a(t) \\cdot \\delta_t q_a(t) + q_a(t)= k_v \\cdot u_v(t)\\cdot v_e(t)$$\n",
    "\n",
    "**\"Differentialgleichung\"**\n",
    "\n",
    "$\\Rightarrow$ Zeitverhalten ist nur schwer zu berechnen \n",
    "\n",
    "$\\Rightarrow$ Unberücksichtigt bleibt der \"innere Zustand\" \n",
    "\n",
    "$h(t) \\Rightarrow \\$ Das Becken könnte überlaufen\n",
    "\n",
    "Weiteres Vorgehen: Blockschaltbild zur besseren Übersicht\n",
    "\n",
    "## 1.2 Elementare Übertragungsglieder\n",
    "Die Übertragung von einer Größe in eine andere Größe nennt man Übertragungsglied\n",
    "\n",
    "* Proportionalitätsglied (P - Glied)\n",
    "\n",
    "    $\\Rightarrow y(t) = k x (t)$\n",
    "    ![alt text](page_2_1.png \"3\") \n",
    "    \n",
    "    \n",
    "* Integration (I - Glied)\n",
    "\n",
    "    $y(t) = c + \\int_0^t x(\\tau)d\\tau$\n",
    "    ![alt text](page_2_2.png \"4\")\n",
    "\n",
    "    \n",
    "* Differentiation $\\Delta$ - Glied\n",
    "\n",
    "    $y(t) = \\frac{dx(t)}{dt} = \\dot{x}(t) = \\delta_t x(t)$\n",
    "    ![alt text](page_2_3.png \"5\")\n",
    "    \n",
    "\n",
    "* Totzeit\n",
    "\n",
    "    $\\Rightarrow y(t) = x(t-\\tau_0)$\n",
    "    ![alt text](page_2_4.png \"6\")\n",
    "    \n",
    "* Nichtlineare Übertragung\n",
    "\n",
    "    $y(t) = g(x(t))$\n",
    "    ![alt text](page_3_1.png \"7\")\n",
    "    \n",
    "**Elementare Verknüpfungen**\n",
    "* Summation\n",
    "\n",
    "    $y(t) = x_1(t) + x_2(t)$\n",
    "    ![alt text](page_3_2.png \"8\")\n",
    "    \n",
    "    \n",
    "* Subtraktion\n",
    "\n",
    "    $y(t) = x_1(t) - x_2(t)$\n",
    "    ![alt text](page_3_3.png \"9\")\n",
    "    \n",
    "    \n",
    "* Multiplizieren\n",
    "\n",
    "    $y(t) = x_1(t) \\cdot x_2(t)$\n",
    "    ![alt text](page_3_4.png \"10\")\n",
    "    \n",
    "    \n",
    "* Verzweigung\n",
    "\n",
    "    $y_1(t) = y_2(t) = x(t)$\n",
    "    ![alt text](page_3_5.png \"11\")\n",
    "    \n",
    "    \n",
    "## 1.3 Blockschaltbild der $G_s$\n",
    "\n",
    "$$aus \\quad Gleichung (3) \\Rightarrow $$ $$h(t) = h_0 + \\int_0^t \\delta_t h(\\tau) d\\tau$$\n",
    "\n",
    "$$\\delta_t h(t) = k_B k_v u_v(t) v_e(t) - k_B \\cdot q_a(t)$$\n",
    "\n",
    "$$q_a(t) = k_a \\sqrt{k(t)}$$\n",
    "\n",
    "![alt text](page_3_6.png \"12\")\n",
    "\n",
    "![alt text](page_3_7.png \"13\")\n",
    "\n",
    "**Analyse**: $u_v(t)$ und $v_e(t)$ seien nahezu konstant. Das System ist im Gleichgewicht, wenn der Integratoreingang null ist. \n",
    "\n",
    "Dann gilt: \n",
    "\n",
    "$q_a(t) \\approx$ konst $\\Rightarrow \\delta_t q_a(t) = 0 \\quad (\\rightarrow Gl.(4))$\n",
    "\n",
    "$q_a(t) = k_v\\cdot u_v(t)\\cdot v_e(t)$\n",
    "\n",
    "$v_e(t)$ beeinflusst direkt $q_a(t)$\n",
    "\n",
    "Wird $v_e(t)$ größer $\\Rightarrow$ dann muss $u_v(t)$ kleiner werden oder umgekehrt.\n",
    "\n",
    "Es ist zweckmäßig, $q_a(t)$ zu messen und geeignet auf $u_v(t)$ zurückzuführen!\n",
    "\n",
    "## 1.4 Blockschaltbild der Strecke $G_s$ mit Rückführung\n",
    "\n",
    "Wir messen den Volumenstrom $q_a(t)$\n",
    "\n",
    "Es sei $u_M(t) = k_M \\cdot q_a(t)$\n",
    "\n",
    "![alt text](page_4_1.png \"14\")\n",
    "\n",
    "$u_v'(t)$ ist eine neue \"Steuer-Spannung\"\n",
    "\n",
    "mit\n",
    "\n",
    "$$u_v(t) = u_v'(t) - k_M q_a(t)  \\quad (\\rightarrow Gl. 5)$$ \n",
    "\n",
    "\n",
    "$$q_a(t) = u_v'(t) \\cdot k_v \\cdot v_e(t) - k_vk_M\\cdot v_e(t) q_a(t)$$\n",
    "$$\\Rightarrow q_a(t) (1 + k_Mk_vv_e(t)) = u_v'(t)k_v\\cdot v_e(t)$$\n",
    "$$q_a(t) = u_v'(t) \\frac{k_v v_e(t)}{1+k_vk_Mv_e(t)}$$\n",
    "\n",
    "**Analyse**: $k_v \\rightarrow \\infty$ gilt\n",
    "\n",
    "$$q_a(t) = u_v'(t)\\cdot \\frac{1}{k_M} $$\n",
    "\n",
    "Der Einfluss von $v_e(t)$ ist aufgehoben\n",
    "\n",
    "Wäre §k_v§ nicht bel., so könnte man ein P-Glied ergänzen.\n",
    "\n",
    "![alt text](page_5_1.png \"15\")\n",
    "\n",
    "Man spricht von einem P-Regler!\n",
    "\n",
    "**Aufgabe**: Berücksichtigung auch der Dynamik eines Systems, d.h. den zeitlichen Ableitungen!\n",
    "\n",
    "## 1.5 Standardregelkreis\n",
    "\n",
    "$G_s$: *Übertragungsfunktion*\n",
    "\n",
    "![alt text](page_5_2.png \"16\")\n",
    "\n",
    "$w(t) \\hat{=}$ *Führungsgröße*\n",
    "\n",
    "$e(t) \\hat{=}$ *Regeldifferenz*\n",
    "\n",
    "$u(t) \\hat{=}$ *Stellgröße*\n",
    "\n",
    "$z_{RS}(t) \\hat{=}$ *Störgröße*\n",
    "\n",
    "$y(t) \\hat{=}$ *Regelgröße*\n"
   ]
  },
  {
   "cell_type": "code",
   "execution_count": 1,
   "metadata": {},
   "outputs": [
    {
     "data": {
      "text/html": [
       "<div id=\"glowscript\" class=\"glowscript\"></div>"
      ],
      "text/plain": [
       "<IPython.core.display.HTML object>"
      ]
     },
     "metadata": {},
     "output_type": "display_data"
    },
    {
     "data": {
      "application/javascript": [
       "if (typeof Jupyter !== \"undefined\") { window.__context = { glowscript_container: $(\"#glowscript\").removeAttr(\"id\")};}else{ element.textContent = ' ';}"
      ],
      "text/plain": [
       "<IPython.core.display.Javascript object>"
      ]
     },
     "metadata": {},
     "output_type": "display_data"
    },
    {
     "data": {
      "application/javascript": [
       "if (typeof Jupyter !== \"undefined\") {require.undef(\"nbextensions/vpython_libraries/glow.min\");}else{element.textContent = ' ';}"
      ],
      "text/plain": [
       "<IPython.core.display.Javascript object>"
      ]
     },
     "metadata": {},
     "output_type": "display_data"
    },
    {
     "data": {
      "application/javascript": [
       "if (typeof Jupyter !== \"undefined\") {require.undef(\"nbextensions/vpython_libraries/glowcomm\");}else{element.textContent = ' ';}"
      ],
      "text/plain": [
       "<IPython.core.display.Javascript object>"
      ]
     },
     "metadata": {},
     "output_type": "display_data"
    },
    {
     "data": {
      "application/javascript": [
       "if (typeof Jupyter !== \"undefined\") {require.undef(\"nbextensions/vpython_libraries/jquery-ui.custom.min\");}else{element.textContent = ' ';}"
      ],
      "text/plain": [
       "<IPython.core.display.Javascript object>"
      ]
     },
     "metadata": {},
     "output_type": "display_data"
    },
    {
     "data": {
      "application/javascript": [
       "if (typeof Jupyter !== \"undefined\") {require([\"nbextensions/vpython_libraries/glow.min\"], function(){console.log(\"GLOW LOADED\");});}else{element.textContent = ' ';}"
      ],
      "text/plain": [
       "<IPython.core.display.Javascript object>"
      ]
     },
     "metadata": {},
     "output_type": "display_data"
    },
    {
     "data": {
      "application/javascript": [
       "if (typeof Jupyter !== \"undefined\") {require([\"nbextensions/vpython_libraries/glowcomm\"], function(){console.log(\"GLOWCOMM LOADED\");});}else{element.textContent = ' ';}"
      ],
      "text/plain": [
       "<IPython.core.display.Javascript object>"
      ]
     },
     "metadata": {},
     "output_type": "display_data"
    },
    {
     "data": {
      "application/javascript": [
       "if (typeof Jupyter !== \"undefined\") {require([\"nbextensions/vpython_libraries/jquery-ui.custom.min\"], function(){console.log(\"JQUERY LOADED\");});}else{element.textContent = ' ';}"
      ],
      "text/plain": [
       "<IPython.core.display.Javascript object>"
      ]
     },
     "metadata": {},
     "output_type": "display_data"
    },
    {
     "ename": "KeyboardInterrupt",
     "evalue": "",
     "output_type": "error",
     "traceback": [
      "\u001b[1;31m---------------------------------------------------------------------------\u001b[0m",
      "\u001b[1;31mKeyboardInterrupt\u001b[0m                         Traceback (most recent call last)",
      "\u001b[1;32m<ipython-input-1-35370de6dbd3>\u001b[0m in \u001b[0;36m<module>\u001b[1;34m\u001b[0m\n\u001b[0;32m     11\u001b[0m \u001b[0mdt\u001b[0m\u001b[1;33m=\u001b[0m\u001b[1;36m0.01\u001b[0m\u001b[1;33m\u001b[0m\u001b[1;33m\u001b[0m\u001b[0m\n\u001b[0;32m     12\u001b[0m \u001b[1;32mwhile\u001b[0m \u001b[1;33m(\u001b[0m\u001b[0mt\u001b[0m\u001b[1;33m<\u001b[0m\u001b[1;36m50\u001b[0m\u001b[1;33m)\u001b[0m\u001b[1;33m:\u001b[0m\u001b[1;33m\u001b[0m\u001b[1;33m\u001b[0m\u001b[0m\n\u001b[1;32m---> 13\u001b[1;33m  \u001b[0mrate\u001b[0m\u001b[1;33m(\u001b[0m\u001b[1;36m100\u001b[0m\u001b[1;33m)\u001b[0m\u001b[1;33m\u001b[0m\u001b[1;33m\u001b[0m\u001b[0m\n\u001b[0m\u001b[0;32m     14\u001b[0m  \u001b[0macc\u001b[0m\u001b[1;33m=\u001b[0m\u001b[1;33m(\u001b[0m\u001b[0meq\u001b[0m\u001b[1;33m-\u001b[0m\u001b[0mMass\u001b[0m\u001b[1;33m.\u001b[0m\u001b[0mpos\u001b[0m\u001b[1;33m)\u001b[0m\u001b[1;33m*\u001b[0m\u001b[1;33m(\u001b[0m\u001b[0mspring\u001b[0m\u001b[1;33m.\u001b[0m\u001b[0mconstant\u001b[0m\u001b[1;33m/\u001b[0m\u001b[0mMass\u001b[0m\u001b[1;33m.\u001b[0m\u001b[0mmass\u001b[0m\u001b[1;33m)\u001b[0m\u001b[1;33m\u001b[0m\u001b[1;33m\u001b[0m\u001b[0m\n\u001b[0;32m     15\u001b[0m  \u001b[0mMass\u001b[0m\u001b[1;33m.\u001b[0m\u001b[0mvelocity\u001b[0m\u001b[1;33m=\u001b[0m\u001b[0mMass\u001b[0m\u001b[1;33m.\u001b[0m\u001b[0mvelocity\u001b[0m\u001b[1;33m+\u001b[0m\u001b[0macc\u001b[0m\u001b[1;33m*\u001b[0m\u001b[0mdt\u001b[0m\u001b[1;33m\u001b[0m\u001b[1;33m\u001b[0m\u001b[0m\n",
      "\u001b[1;32mc:\\users\\aslan\\appdata\\local\\programs\\python\\python37-32\\lib\\site-packages\\vpython\\rate_control.py\u001b[0m in \u001b[0;36m__call__\u001b[1;34m(self, N)\u001b[0m\n\u001b[0;32m    258\u001b[0m         \u001b[0mself\u001b[0m\u001b[1;33m.\u001b[0m\u001b[0mrval\u001b[0m \u001b[1;33m=\u001b[0m \u001b[0mN\u001b[0m\u001b[1;33m\u001b[0m\u001b[1;33m\u001b[0m\u001b[0m\n\u001b[0;32m    259\u001b[0m         \u001b[1;32mif\u001b[0m \u001b[0mself\u001b[0m\u001b[1;33m.\u001b[0m\u001b[0mrval\u001b[0m \u001b[1;33m<\u001b[0m \u001b[1;36m1\u001b[0m\u001b[1;33m:\u001b[0m \u001b[1;32mraise\u001b[0m \u001b[0mValueError\u001b[0m\u001b[1;33m(\u001b[0m\u001b[1;34m\"rate value must be greater than or equal to 1\"\u001b[0m\u001b[1;33m)\u001b[0m\u001b[1;33m\u001b[0m\u001b[1;33m\u001b[0m\u001b[0m\n\u001b[1;32m--> 260\u001b[1;33m         \u001b[0msuper\u001b[0m\u001b[1;33m(\u001b[0m\u001b[0m_RateKeeper2\u001b[0m\u001b[1;33m,\u001b[0m \u001b[0mself\u001b[0m\u001b[1;33m)\u001b[0m\u001b[1;33m.\u001b[0m\u001b[0m__call__\u001b[0m\u001b[1;33m(\u001b[0m\u001b[0mself\u001b[0m\u001b[1;33m.\u001b[0m\u001b[0mrval\u001b[0m\u001b[1;33m)\u001b[0m \u001b[1;31m## calls __call__ in rate_control.py\u001b[0m\u001b[1;33m\u001b[0m\u001b[1;33m\u001b[0m\u001b[0m\n\u001b[0m\u001b[0;32m    261\u001b[0m \u001b[1;33m\u001b[0m\u001b[0m\n\u001b[0;32m    262\u001b[0m \u001b[1;33m\u001b[0m\u001b[0m\n",
      "\u001b[1;32mc:\\users\\aslan\\appdata\\local\\programs\\python\\python37-32\\lib\\site-packages\\vpython\\rate_control.py\u001b[0m in \u001b[0;36m__call__\u001b[1;34m(self, maxRate)\u001b[0m\n\u001b[0;32m    212\u001b[0m             \u001b[0mdt\u001b[0m \u001b[1;33m=\u001b[0m \u001b[0mself\u001b[0m\u001b[1;33m.\u001b[0m\u001b[0mlastSleep\u001b[0m \u001b[1;33m+\u001b[0m \u001b[0mself\u001b[0m\u001b[1;33m.\u001b[0m\u001b[0mcalls\u001b[0m\u001b[1;33m*\u001b[0m\u001b[1;33m(\u001b[0m\u001b[0mself\u001b[0m\u001b[1;33m.\u001b[0m\u001b[0muserTime\u001b[0m \u001b[1;33m+\u001b[0m \u001b[0mself\u001b[0m\u001b[1;33m.\u001b[0m\u001b[0mcallTime\u001b[0m \u001b[1;33m+\u001b[0m \u001b[0mself\u001b[0m\u001b[1;33m.\u001b[0m\u001b[0mdelay\u001b[0m\u001b[1;33m)\u001b[0m \u001b[1;33m+\u001b[0m\u001b[0;31m \u001b[0m\u001b[0;31m\\\u001b[0m\u001b[1;33m\u001b[0m\u001b[1;33m\u001b[0m\u001b[0m\n\u001b[0;32m    213\u001b[0m                  \u001b[0mrenders\u001b[0m\u001b[1;33m*\u001b[0m\u001b[0mself\u001b[0m\u001b[1;33m.\u001b[0m\u001b[0mrenderTime\u001b[0m \u001b[1;33m+\u001b[0m \u001b[0msleeps\u001b[0m\u001b[1;33m*\u001b[0m\u001b[0mself\u001b[0m\u001b[1;33m.\u001b[0m\u001b[0minteractionPeriod\u001b[0m \u001b[1;33m-\u001b[0m \u001b[0m_clock\u001b[0m\u001b[1;33m(\u001b[0m\u001b[1;33m)\u001b[0m\u001b[1;33m\u001b[0m\u001b[1;33m\u001b[0m\u001b[0m\n\u001b[1;32m--> 214\u001b[1;33m             \u001b[0m_sleep\u001b[0m\u001b[1;33m(\u001b[0m\u001b[0mdt\u001b[0m\u001b[1;33m)\u001b[0m\u001b[1;33m\u001b[0m\u001b[1;33m\u001b[0m\u001b[0m\n\u001b[0m\u001b[0;32m    215\u001b[0m             \u001b[0mself\u001b[0m\u001b[1;33m.\u001b[0m\u001b[0mlastSleep\u001b[0m \u001b[1;33m=\u001b[0m \u001b[0m_clock\u001b[0m\u001b[1;33m(\u001b[0m\u001b[1;33m)\u001b[0m\u001b[1;33m\u001b[0m\u001b[1;33m\u001b[0m\u001b[0m\n\u001b[0;32m    216\u001b[0m             \u001b[0mself\u001b[0m\u001b[1;33m.\u001b[0m\u001b[0mcalls\u001b[0m \u001b[1;33m=\u001b[0m \u001b[1;36m0\u001b[0m\u001b[1;33m\u001b[0m\u001b[1;33m\u001b[0m\u001b[0m\n",
      "\u001b[1;32mc:\\users\\aslan\\appdata\\local\\programs\\python\\python37-32\\lib\\site-packages\\vpython\\rate_control.py\u001b[0m in \u001b[0;36m_sleep\u001b[1;34m(dt)\u001b[0m\n\u001b[0;32m     54\u001b[0m         \u001b[0mdtsleep\u001b[0m \u001b[1;33m=\u001b[0m \u001b[0mnticks\u001b[0m\u001b[1;33m*\u001b[0m\u001b[0m_tick\u001b[0m\u001b[1;33m\u001b[0m\u001b[1;33m\u001b[0m\u001b[0m\n\u001b[0;32m     55\u001b[0m         \u001b[0mt\u001b[0m \u001b[1;33m=\u001b[0m \u001b[0m_clock\u001b[0m\u001b[1;33m(\u001b[0m\u001b[1;33m)\u001b[0m\u001b[1;33m\u001b[0m\u001b[1;33m\u001b[0m\u001b[0m\n\u001b[1;32m---> 56\u001b[1;33m         \u001b[0mtime\u001b[0m\u001b[1;33m.\u001b[0m\u001b[0msleep\u001b[0m\u001b[1;33m(\u001b[0m\u001b[0mdtsleep\u001b[0m\u001b[1;33m)\u001b[0m\u001b[1;33m\u001b[0m\u001b[1;33m\u001b[0m\u001b[0m\n\u001b[0m\u001b[0;32m     57\u001b[0m         \u001b[0mt\u001b[0m \u001b[1;33m=\u001b[0m \u001b[0m_clock\u001b[0m\u001b[1;33m(\u001b[0m\u001b[1;33m)\u001b[0m\u001b[1;33m-\u001b[0m\u001b[0mt\u001b[0m\u001b[1;33m\u001b[0m\u001b[1;33m\u001b[0m\u001b[0m\n\u001b[0;32m     58\u001b[0m         \u001b[0mdt\u001b[0m \u001b[1;33m-=\u001b[0m \u001b[0mt\u001b[0m\u001b[1;33m\u001b[0m\u001b[1;33m\u001b[0m\u001b[0m\n",
      "\u001b[1;31mKeyboardInterrupt\u001b[0m: "
     ]
    }
   ],
   "source": [
    "from vpython import *\n",
    "\n",
    "display(width=600,height=600,center=vector(6,0,0),background=color.white)\n",
    "wall=box(pos=vector(0,1,0),size=vector(0.2,3,2),color=color.green)\n",
    "floor=box(pos=vector(6,-0.6,0),size=vector(14,0.2,4),color=color.green)\n",
    "Mass=box(pos=vector(12,0,0),velocity=vector(0,0,0),size=vector(1,1,1),mass=1.0,color=color.blue)\n",
    "pivot=vector(0,0,0)\n",
    "spring=helix(pos=pivot,axis=Mass.pos-pivot,radius=0.4,constant=1,thickness=0.1,coils=20,color=color.red)\n",
    "eq=vector(9,0,0)\n",
    "t=0\n",
    "dt=0.01\n",
    "while (t<50):\n",
    " rate(100)\n",
    " acc=(eq-Mass.pos)*(spring.constant/Mass.mass)\n",
    " Mass.velocity=Mass.velocity+acc*dt\n",
    " Mass.pos=Mass.pos+Mass.velocity*dt\n",
    " spring.axis=Mass.pos-spring.pos\n",
    " t=t+dt\n"
   ]
  },
  {
   "cell_type": "code",
   "execution_count": null,
   "metadata": {},
   "outputs": [],
   "source": []
  }
 ],
 "metadata": {
  "kernelspec": {
   "display_name": "Python 3",
   "language": "python",
   "name": "python3"
  },
  "language_info": {
   "codemirror_mode": {
    "name": "ipython",
    "version": 3
   },
   "file_extension": ".py",
   "mimetype": "text/x-python",
   "name": "python",
   "nbconvert_exporter": "python",
   "pygments_lexer": "ipython3",
   "version": "3.7.2"
  }
 },
 "nbformat": 4,
 "nbformat_minor": 2
}
